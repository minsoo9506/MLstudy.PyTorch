{
 "cells": [
  {
   "cell_type": "code",
   "execution_count": 27,
   "metadata": {
    "ExecuteTime": {
     "end_time": "2020-12-29T09:48:35.206180Z",
     "start_time": "2020-12-29T09:48:35.188210Z"
    }
   },
   "outputs": [],
   "source": [
    "import torch\n",
    "from torch import nn, optim\n",
    "from torchvision import datasets, transforms\n",
    "from torch.utils.data import random_split, DataLoader\n",
    "\n",
    "from tqdm.notebook import tqdm"
   ]
  },
  {
   "cell_type": "code",
   "execution_count": 20,
   "metadata": {
    "ExecuteTime": {
     "end_time": "2020-12-29T09:40:20.552606Z",
     "start_time": "2020-12-29T09:40:18.729464Z"
    }
   },
   "outputs": [],
   "source": [
    "# model\n",
    "class Model(nn.Module):\n",
    "    def __init__(self):\n",
    "        super().__init__()\n",
    "        self.model = nn.Sequential(\n",
    "            nn.Linear(28*28, 64),\n",
    "            nn.ReLU(),\n",
    "            nn.Linear(64,64),\n",
    "            nn.ReLU(),\n",
    "            nn.Linear(64, 10),\n",
    "        )\n",
    "    \n",
    "    def forward(self, x):\n",
    "        logits = self.model(x)\n",
    "        return logits\n",
    "    \n",
    "model = Model().cuda()"
   ]
  },
  {
   "cell_type": "code",
   "execution_count": 21,
   "metadata": {
    "ExecuteTime": {
     "end_time": "2020-12-29T09:40:20.568606Z",
     "start_time": "2020-12-29T09:40:20.553606Z"
    }
   },
   "outputs": [],
   "source": [
    "# Define optimizer\n",
    "optimizer = optim.Adam(model.parameters())\n",
    "# Define loss\n",
    "loss_fn = nn.CrossEntropyLoss()"
   ]
  },
  {
   "cell_type": "code",
   "execution_count": 22,
   "metadata": {
    "ExecuteTime": {
     "end_time": "2020-12-29T09:40:22.569796Z",
     "start_time": "2020-12-29T09:40:22.540273Z"
    }
   },
   "outputs": [],
   "source": [
    "# train, val\n",
    "batch_size = 32\n",
    "train_data = datasets.MNIST('data', train=True, download=True, transform=transforms.ToTensor())\n",
    "train, val = random_split(train_data, [55000, 5000])\n",
    "train_loader = DataLoader(train, batch_size=batch_size)\n",
    "val_loader = DataLoader(val, batch_size=batch_size)"
   ]
  },
  {
   "cell_type": "code",
   "execution_count": 31,
   "metadata": {
    "ExecuteTime": {
     "end_time": "2020-12-29T09:50:09.359795Z",
     "start_time": "2020-12-29T09:49:36.977264Z"
    }
   },
   "outputs": [
    {
     "data": {
      "application/vnd.jupyter.widget-view+json": {
       "model_id": "90c4bdb7ade1443c9448e2369423a5ee",
       "version_major": 2,
       "version_minor": 0
      },
      "text/plain": [
       "HBox(children=(FloatProgress(value=0.0, max=5.0), HTML(value='')))"
      ]
     },
     "metadata": {},
     "output_type": "display_data"
    },
    {
     "name": "stdout",
     "output_type": "stream",
     "text": [
      "Epoch : 1, train_loss : 0.107\n",
      "Epoch : 1, val_loss : 0.113\n",
      "Epoch : 2, train_loss : 0.082\n",
      "Epoch : 2, val_loss : 0.107\n",
      "Epoch : 3, train_loss : 0.065\n",
      "Epoch : 3, val_loss : 0.109\n",
      "Epoch : 4, train_loss : 0.052\n",
      "Epoch : 4, val_loss : 0.117\n",
      "Epoch : 5, train_loss : 0.043\n",
      "Epoch : 5, val_loss : 0.122\n",
      "\n"
     ]
    }
   ],
   "source": [
    "# training loop\n",
    "n_epochs = 5\n",
    "for epoch in tqdm(range(n_epochs)):\n",
    "    model.train()\n",
    "    losses = list()\n",
    "    for batch in train_loader:\n",
    "        x, y = batch\n",
    "        batch_size = x.size(0)\n",
    "        x = x.view(batch_size, -1).cuda()\n",
    "        y_hat = model(x)\n",
    "        # for python debug\n",
    "        # import pdb; pdb.set_trace()\n",
    "        loss = loss_fn(y_hat, y.cuda())\n",
    "        losses.append(loss.item())\n",
    "        \n",
    "        model.zero_grad()\n",
    "        loss.backward()\n",
    "        optimizer.step()\n",
    "    \n",
    "    print(f'Epoch : {epoch+1}, train_loss : {torch.tensor(losses).mean():.3f}')\n",
    "    \n",
    "    model.eval()\n",
    "    losses = list()\n",
    "    for batch in val_loader:\n",
    "        x, y = batch\n",
    "        batch_size = x.size(0)\n",
    "        x = x.view(batch_size, -1).cuda()\n",
    "        \n",
    "        with torch.no_grad():\n",
    "            y_hat = model(x)\n",
    "            loss = loss_fn(y_hat, y.cuda())\n",
    "            losses.append(loss.item())   \n",
    "        \n",
    "    print(f'Epoch : {epoch+1}, val_loss : {torch.tensor(losses).mean():.3f}')"
   ]
  }
 ],
 "metadata": {
  "kernelspec": {
   "display_name": "Python 3",
   "language": "python",
   "name": "python3"
  },
  "language_info": {
   "codemirror_mode": {
    "name": "ipython",
    "version": 3
   },
   "file_extension": ".py",
   "mimetype": "text/x-python",
   "name": "python",
   "nbconvert_exporter": "python",
   "pygments_lexer": "ipython3",
   "version": "3.8.3"
  }
 },
 "nbformat": 4,
 "nbformat_minor": 4
}
